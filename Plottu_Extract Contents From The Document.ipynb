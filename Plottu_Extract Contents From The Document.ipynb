{
 "cells": [
  {
   "cell_type": "markdown",
   "metadata": {},
   "source": [
    "# Step 1 User Uploads the File"
   ]
  },
  {
   "cell_type": "markdown",
   "metadata": {},
   "source": [
    "# Step 2.1 Extractive Texts Summarization"
   ]
  },
  {
   "cell_type": "markdown",
   "metadata": {},
   "source": [
    "## Install/Import Required Package/Libraries"
   ]
  },
  {
   "cell_type": "code",
   "execution_count": 1,
   "metadata": {
    "scrolled": false
   },
   "outputs": [
    {
     "name": "stdout",
     "output_type": "stream",
     "text": [
      "Requirement already satisfied: pdfminer3k in /anaconda3/lib/python3.7/site-packages (1.3.1)\n",
      "Requirement already satisfied: pytest>=2.0 in /anaconda3/lib/python3.7/site-packages (from pdfminer3k) (4.0.2)\n",
      "Requirement already satisfied: ply>=3.4 in /anaconda3/lib/python3.7/site-packages (from pdfminer3k) (3.11)\n",
      "Requirement already satisfied: py>=1.5.0 in /anaconda3/lib/python3.7/site-packages (from pytest>=2.0->pdfminer3k) (1.7.0)\n",
      "Requirement already satisfied: six>=1.10.0 in /anaconda3/lib/python3.7/site-packages (from pytest>=2.0->pdfminer3k) (1.12.0)\n",
      "Requirement already satisfied: setuptools in /anaconda3/lib/python3.7/site-packages (from pytest>=2.0->pdfminer3k) (40.6.3)\n",
      "Requirement already satisfied: attrs>=17.4.0 in /anaconda3/lib/python3.7/site-packages (from pytest>=2.0->pdfminer3k) (19.1.0)\n",
      "Requirement already satisfied: more-itertools>=4.0.0 in /anaconda3/lib/python3.7/site-packages (from pytest>=2.0->pdfminer3k) (4.3.0)\n",
      "Requirement already satisfied: atomicwrites>=1.0 in /anaconda3/lib/python3.7/site-packages (from pytest>=2.0->pdfminer3k) (1.2.1)\n",
      "Requirement already satisfied: pluggy>=0.7 in /anaconda3/lib/python3.7/site-packages (from pytest>=2.0->pdfminer3k) (0.8.0)\n",
      "Requirement already satisfied: sumy in /anaconda3/lib/python3.7/site-packages (0.7.0)\n",
      "Requirement already satisfied: nltk>=3.0.2 in /anaconda3/lib/python3.7/site-packages (from sumy) (3.4)\n",
      "Requirement already satisfied: docopt<0.7,>=0.6.1 in /anaconda3/lib/python3.7/site-packages (from sumy) (0.6.2)\n",
      "Requirement already satisfied: requests>=2.7.0 in /anaconda3/lib/python3.7/site-packages (from sumy) (2.21.0)\n",
      "Requirement already satisfied: breadability>=0.1.20 in /anaconda3/lib/python3.7/site-packages (from sumy) (0.1.20)\n",
      "Requirement already satisfied: six in /anaconda3/lib/python3.7/site-packages (from nltk>=3.0.2->sumy) (1.12.0)\n",
      "Requirement already satisfied: singledispatch in /anaconda3/lib/python3.7/site-packages (from nltk>=3.0.2->sumy) (3.4.0.3)\n",
      "Requirement already satisfied: certifi>=2017.4.17 in /anaconda3/lib/python3.7/site-packages (from requests>=2.7.0->sumy) (2018.11.29)\n",
      "Requirement already satisfied: urllib3<1.25,>=1.21.1 in /anaconda3/lib/python3.7/site-packages (from requests>=2.7.0->sumy) (1.24.1)\n",
      "Requirement already satisfied: chardet<3.1.0,>=3.0.2 in /anaconda3/lib/python3.7/site-packages (from requests>=2.7.0->sumy) (3.0.4)\n",
      "Requirement already satisfied: idna<2.9,>=2.5 in /anaconda3/lib/python3.7/site-packages (from requests>=2.7.0->sumy) (2.8)\n",
      "Requirement already satisfied: lxml>=2.0 in /anaconda3/lib/python3.7/site-packages (from breadability>=0.1.20->sumy) (4.2.5)\n"
     ]
    }
   ],
   "source": [
    "! pip install pdfminer3k\n",
    "! pip install sumy"
   ]
  },
  {
   "cell_type": "code",
   "execution_count": 2,
   "metadata": {},
   "outputs": [],
   "source": [
    "from pdfminer.pdfinterp import PDFResourceManager, process_pdf\n",
    "from pdfminer.converter import TextConverter\n",
    "from pdfminer.layout import LAParams\n",
    "from io import StringIO\n",
    "from io import open  \n",
    "import re \n",
    "from sumy.parsers.plaintext import PlaintextParser\n",
    "from sumy.nlp.tokenizers import Tokenizer\n",
    "from sumy.summarizers.lex_rank import LexRankSummarizer # In this script, we use one summarizer to summarize the document as the example.\n",
    "from summa import keywords  "
   ]
  },
  {
   "cell_type": "markdown",
   "metadata": {},
   "source": [
    "## Convert PDF File into TXT File"
   ]
  },
  {
   "cell_type": "code",
   "execution_count": 3,
   "metadata": {},
   "outputs": [],
   "source": [
    "# Create a Function to Read PDF File\n",
    "def readPDF(pdfFile):\n",
    "    rsrcmgr = PDFResourceManager()\n",
    "    retstr = StringIO()\n",
    "    laparams = LAParams()\n",
    "    device = TextConverter(rsrcmgr, retstr, laparams=laparams)\n",
    "\n",
    "    process_pdf(rsrcmgr, device, pdfFile)\n",
    "    device.close()\n",
    "\n",
    "    content = retstr.getvalue()\n",
    "    retstr.close()\n",
    "    \n",
    "    return content\n",
    "\n",
    "# Create a Function to Read TXT File\n",
    "def saveTxt(txt):\n",
    "    with open(\"USER MANUAL.txt\", \"w\") as f:\n",
    "        f.write(txt)\n",
    "        \n",
    "# Convert PDF file into TXT File and Save it in the Current Working Directory      \n",
    "txt = readPDF(open('USER MANUAL.pdf', 'rb'))\n",
    "saveTxt(txt)"
   ]
  },
  {
   "cell_type": "code",
   "execution_count": 4,
   "metadata": {},
   "outputs": [
    {
     "data": {
      "text/plain": [
       "\"USER MANUAL \\n\\nChapter 1 Getting Started \\n\\nWelcome to your new Kindle. This short guide will familiarize you with all of the \\n\\nfeatures and functionality of your Kindle. Some Kindle features may not be available \\n\\nbased on your country of residence or location. Please visit \\n\\nwww.amazon.com/devicesupport for more information about specific features. \\n\\nSetting up your Kindle \\n\\nSetting up your Kindle takes a few simple steps: \\n\\n Select the device language. \\n\\n Connect to a wireless network. \\n\\n Register your Kindle to your Amazon account. \\n\\n Link your Kindle to your social network accounts. (Optional) \\n\\nIf you haven't done these steps yet, go to the Home screen now, select Set Up Your \\n\\nKindle, and follow the onscreen prompts. If you bought your Kindle online using your \\n\\nAmazon account, it is already registered to you. To verify, tap the Home icon and look \\n\\nfor your Amazon user name in the upper left corner of the Home screen. If it says My \\n\\nKindle or shows the name of a previous owner instead of your own Amazon account \\n\\nname, you'll need to register it.  \\n\\nTo register a Kindle that has been previously registered, tap the Quick Actions icon on \\n\\nthe toolbar, then tap All Settings. On the Settings page, tap My Account, then \\n\\nRegister/Deregister Device. If you have enabled Sign in Approval, you will need to \\n\\nenter your passcode followed by the security code sent to your phone when you \\n\\nregister the device. \\n\\nIf you have difficulty connecting to your wireless network or need more information, \\n\\nsee Network Connectivity. Once you have completed the setup process, Set Up Your \\n\\nKindle will no longer appear on your Home screen. \\n\\nKeyboard \\n\\nYour Kindle has an onscreen keyboard. When you tap within the Search field or begin \\n\\nother actions that require you to type in information, the keyboard automatically \\n\\n \\n \\n \\n \\n \\n \\n\\x0cdisplays at the bottom of the screen. Tap the keys to enter your selection and use the \\n\\nappropriate buttons to continue on to the next action. As you type, word suggestions \\n\\nbased upon your entries display above the keyboard. Tap the word you want to \\n\\nselect. \\n\\nChapter 2 Navigating Your Kindle \\n\\nYour Kindle features a touchscreen interface that enables you to perform many tasks \\n\\nwith just a tap or swipe of a finger. To select an item, simply tap it. For example, tap a \\n\\nbook cover or title to open the book, or tap the Menu icon on the item's cover to \\n\\nview available options. \\n\\nTap zones \\n\\nThe EasyReach feature of your Kindle lets you effortlessly turn pages in a book or \\n\\nperiodical while holding the device with just one hand. Tapping almost anywhere in \\n\\nthe display area will take you to the next page; the area is large enough to be tapped \\n\\nwhether you hold the device with your left or right hand. Tap the left side of the \\n\\nscreen to go to the previous page. The EasyReach tap zones differ depending on \\n\\nwhether your Kindle is in portrait or landscape mode. When reading , you can change \\n\\nthe screen orientation by tapping the Menu icon and selecting Portrait or Landscape \\n\\nMode. Note that the option displayed depends upon the current orientation of your \\n\\nKindle. \\n\\n \\n \\n\\x0c\""
      ]
     },
     "execution_count": 4,
     "metadata": {},
     "output_type": "execute_result"
    }
   ],
   "source": [
    "# Read the TXT File\n",
    "txt"
   ]
  },
  {
   "cell_type": "markdown",
   "metadata": {},
   "source": [
    "## Summarize the Entire Document"
   ]
  },
  {
   "cell_type": "code",
   "execution_count": 5,
   "metadata": {},
   "outputs": [],
   "source": [
    "# Create a Parser to Extract the File \n",
    "parser = PlaintextParser.from_file(\"USER MANUAL.txt\", Tokenizer(\"english\"))  "
   ]
  },
  {
   "cell_type": "code",
   "execution_count": 6,
   "metadata": {},
   "outputs": [
    {
     "name": "stdout",
     "output_type": "stream",
     "text": [
      "features and functionality of your Kindle.\n",
      "Some Kindle features may not be available\n",
      "Please visit\n",
      "Setting up your Kindle\n",
      "Select the device language.\n",
      "Register your Kindle to your Amazon account.\n",
      "Link your Kindle to your social network accounts.\n",
      "If you haven't done these steps yet, go to the Home screen now, select Set Up Your\n",
      "To verify, tap the Home icon and look\n",
      "for your Amazon user name in the upper left corner of the Home screen.\n",
      "Kindle or shows the name of a previous owner instead of your own Amazon account\n",
      "name, you'll need to register it.\n",
      "To register a Kindle that has been previously registered, tap the Quick Actions icon on\n",
      "On the Settings page, tap My Account, then\n",
      "If you have enabled Sign in Approval, you will need to\n",
      "If you have difficulty connecting to your wireless network or need more information,\n",
      "Your Kindle has an onscreen keyboard.\n",
      "other actions that require you to type in information, the keyboard automatically\n",
      "based upon your entries display above the keyboard.\n",
      "Tap the word you want to\n",
      "Chapter 2 Navigating Your Kindle\n",
      "with just a tap or swipe of a finger.\n",
      "To select an item, simply tap it.\n",
      "book cover or title to open the book, or tap the Menu icon on the item's cover to\n",
      "whether you hold the device with your left or right hand.\n",
      "Tap the left side of the\n",
      "screen to go to the previous page.\n",
      "whether your Kindle is in portrait or landscape mode.\n",
      "the screen orientation by tapping the Menu icon and selecting Portrait or Landscape\n",
      "Kindle.\n"
     ]
    }
   ],
   "source": [
    "# Summarize the Document with 30 Sentences\n",
    "summarizer = LexRankSummarizer() #Use LexRank Summarizer to summarize the document\n",
    "\n",
    "summary = summarizer(parser.document, 30)  \n",
    "for sentence in summary:\n",
    " print(sentence)"
   ]
  },
  {
   "cell_type": "markdown",
   "metadata": {},
   "source": [
    "## Extract Keywords from the Document"
   ]
  },
  {
   "cell_type": "code",
   "execution_count": 7,
   "metadata": {
    "scrolled": true
   },
   "outputs": [
    {
     "name": "stdout",
     "output_type": "stream",
     "text": [
      "tap\n",
      "tapping\n",
      "tapped\n",
      "kindle\n",
      "displays\n",
      "display\n",
      "network\n",
      "setting\n",
      "set\n",
      "settings\n",
      "option displayed\n",
      "chapter\n",
      "amazon\n",
      "select\n",
      "selection\n",
      "selecting\n",
      "account\n",
      "accounts\n",
      "features\n",
      "feature\n",
      "screen\n",
      "keyboard\n",
      "page\n",
      "pages\n",
      "optional\n",
      "options\n",
      "register\n",
      "registered\n",
      "icon\n",
      "left\n",
      "mode\n",
      "code\n",
      "available\n"
     ]
    }
   ],
   "source": [
    "text_file = open(\"USER MANUAL.txt\", \"r\")\n",
    "print(keywords.keywords(text_file.read()))\n",
    "text_file.close()"
   ]
  },
  {
   "cell_type": "markdown",
   "metadata": {},
   "source": [
    "# Step 2.2 Texts Splitting "
   ]
  },
  {
   "cell_type": "code",
   "execution_count": 8,
   "metadata": {},
   "outputs": [],
   "source": [
    "# Split the Document by the Keyword: Chapter\n",
    "text = re.split(r'\\n(?=Chapter)', txt) "
   ]
  },
  {
   "cell_type": "code",
   "execution_count": 9,
   "metadata": {
    "scrolled": true
   },
   "outputs": [
    {
     "data": {
      "text/plain": [
       "\"Chapter 1 Getting Started \\n\\nWelcome to your new Kindle. This short guide will familiarize you with all of the \\n\\nfeatures and functionality of your Kindle. Some Kindle features may not be available \\n\\nbased on your country of residence or location. Please visit \\n\\nwww.amazon.com/devicesupport for more information about specific features. \\n\\nSetting up your Kindle \\n\\nSetting up your Kindle takes a few simple steps: \\n\\n Select the device language. \\n\\n Connect to a wireless network. \\n\\n Register your Kindle to your Amazon account. \\n\\n Link your Kindle to your social network accounts. (Optional) \\n\\nIf you haven't done these steps yet, go to the Home screen now, select Set Up Your \\n\\nKindle, and follow the onscreen prompts. If you bought your Kindle online using your \\n\\nAmazon account, it is already registered to you. To verify, tap the Home icon and look \\n\\nfor your Amazon user name in the upper left corner of the Home screen. If it says My \\n\\nKindle or shows the name of a previous owner instead of your own Amazon account \\n\\nname, you'll need to register it.  \\n\\nTo register a Kindle that has been previously registered, tap the Quick Actions icon on \\n\\nthe toolbar, then tap All Settings. On the Settings page, tap My Account, then \\n\\nRegister/Deregister Device. If you have enabled Sign in Approval, you will need to \\n\\nenter your passcode followed by the security code sent to your phone when you \\n\\nregister the device. \\n\\nIf you have difficulty connecting to your wireless network or need more information, \\n\\nsee Network Connectivity. Once you have completed the setup process, Set Up Your \\n\\nKindle will no longer appear on your Home screen. \\n\\nKeyboard \\n\\nYour Kindle has an onscreen keyboard. When you tap within the Search field or begin \\n\\nother actions that require you to type in information, the keyboard automatically \\n\\n \\n \\n \\n \\n \\n \\n\\x0cdisplays at the bottom of the screen. Tap the keys to enter your selection and use the \\n\\nappropriate buttons to continue on to the next action. As you type, word suggestions \\n\\nbased upon your entries display above the keyboard. Tap the word you want to \\n\\nselect. \\n\""
      ]
     },
     "execution_count": 9,
     "metadata": {},
     "output_type": "execute_result"
    }
   ],
   "source": [
    "# Show Chapter 1\n",
    "text[1]"
   ]
  },
  {
   "cell_type": "code",
   "execution_count": 10,
   "metadata": {
    "scrolled": true
   },
   "outputs": [
    {
     "data": {
      "text/plain": [
       "\"Chapter 2 Navigating Your Kindle \\n\\nYour Kindle features a touchscreen interface that enables you to perform many tasks \\n\\nwith just a tap or swipe of a finger. To select an item, simply tap it. For example, tap a \\n\\nbook cover or title to open the book, or tap the Menu icon on the item's cover to \\n\\nview available options. \\n\\nTap zones \\n\\nThe EasyReach feature of your Kindle lets you effortlessly turn pages in a book or \\n\\nperiodical while holding the device with just one hand. Tapping almost anywhere in \\n\\nthe display area will take you to the next page; the area is large enough to be tapped \\n\\nwhether you hold the device with your left or right hand. Tap the left side of the \\n\\nscreen to go to the previous page. The EasyReach tap zones differ depending on \\n\\nwhether your Kindle is in portrait or landscape mode. When reading , you can change \\n\\nthe screen orientation by tapping the Menu icon and selecting Portrait or Landscape \\n\\nMode. Note that the option displayed depends upon the current orientation of your \\n\\nKindle. \\n\\n \\n \\n\\x0c\""
      ]
     },
     "execution_count": 10,
     "metadata": {},
     "output_type": "execute_result"
    }
   ],
   "source": [
    "# Show Chapter 2\n",
    "text[2]"
   ]
  },
  {
   "cell_type": "code",
   "execution_count": 11,
   "metadata": {},
   "outputs": [
    {
     "name": "stdout",
     "output_type": "stream",
     "text": [
      "Page 1\n",
      "xref=5, gen=ttf, type=Type0, basefont=BCDEEE+Calibri-Bold, name=F1\n",
      "xref=12, gen=ttf, type=TrueType, basefont=BCDFEE+Calibri-Bold, name=F2\n",
      "xref=14, gen=ttf, type=Type0, basefont=BCDGEE+Calibri, name=F3\n",
      "xref=19, gen=ttf, type=TrueType, basefont=BCDHEE+Calibri, name=F4\n",
      "Page 2\n",
      "xref=14, gen=ttf, type=Type0, basefont=BCDGEE+Calibri, name=F3\n",
      "xref=19, gen=ttf, type=TrueType, basefont=BCDHEE+Calibri, name=F4\n",
      "xref=5, gen=ttf, type=Type0, basefont=BCDEEE+Calibri-Bold, name=F1\n",
      "xref=12, gen=ttf, type=TrueType, basefont=BCDFEE+Calibri-Bold, name=F2\n",
      "\n",
      "Extracted 4 font(s) from USER MANUAL.pdf\n"
     ]
    }
   ],
   "source": [
    "# Summarize the Fonts, Word Styles and Texts Formatting Used in Each Page of the Document\n",
    "from __future__ import print_function\n",
    "import fitz\n",
    "doc = fitz.open(\"USER MANUAL.pdf\")\n",
    "xref_visited = [] # memorize already processed font xrefs here\n",
    "\n",
    "for i in range(len(doc)):\n",
    "    fontlist = doc.getPageFontList(i)\n",
    "    if fontlist:\n",
    "        print(\"Page\", i+1)\n",
    "    for font in fontlist:\n",
    "        print(\"xref=%s, gen=%s, type=%s, basefont=%s, name=%s\" % (font[0], font[1], font[2], font[3], font[4]))\n",
    "        \n",
    "print()\n",
    "print(\"Extracted\", len(fontlist), \"font(s) from\", doc.name)"
   ]
  },
  {
   "cell_type": "code",
   "execution_count": null,
   "metadata": {},
   "outputs": [],
   "source": []
  }
 ],
 "metadata": {
  "kernelspec": {
   "display_name": "Python 3",
   "language": "python",
   "name": "python3"
  },
  "language_info": {
   "codemirror_mode": {
    "name": "ipython",
    "version": 3
   },
   "file_extension": ".py",
   "mimetype": "text/x-python",
   "name": "python",
   "nbconvert_exporter": "python",
   "pygments_lexer": "ipython3",
   "version": "3.8.2"
  }
 },
 "nbformat": 4,
 "nbformat_minor": 2
}
