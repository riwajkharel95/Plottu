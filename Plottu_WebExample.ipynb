{
 "cells": [
  {
   "cell_type": "code",
   "execution_count": 1,
   "metadata": {},
   "outputs": [
    {
     "name": "stdout",
     "output_type": "stream",
     "text": [
      "Requirement already satisfied: pandas in c:\\users\\rivaj kharel\\appdata\\local\\programs\\python\\python38-32\\lib\\site-packages (1.0.3)\n",
      "Requirement already satisfied: python-dateutil>=2.6.1 in c:\\users\\rivaj kharel\\appdata\\local\\programs\\python\\python38-32\\lib\\site-packages (from pandas) (2.8.1)\n",
      "Requirement already satisfied: pytz>=2017.2 in c:\\users\\rivaj kharel\\appdata\\local\\programs\\python\\python38-32\\lib\\site-packages (from pandas) (2020.1)\n",
      "Requirement already satisfied: numpy>=1.13.3 in c:\\users\\rivaj kharel\\appdata\\local\\programs\\python\\python38-32\\lib\\site-packages (from pandas) (1.18.4)\n",
      "Requirement already satisfied: six>=1.5 in c:\\users\\rivaj kharel\\appdata\\local\\programs\\python\\python38-32\\lib\\site-packages (from python-dateutil>=2.6.1->pandas) (1.12.0)\n",
      "Requirement already satisfied: textract in c:\\users\\rivaj kharel\\appdata\\local\\programs\\python\\python38-32\\lib\\site-packages (1.6.3)\n",
      "Requirement already satisfied: EbookLib==0.17.1 in c:\\users\\rivaj kharel\\appdata\\local\\programs\\python\\python38-32\\lib\\site-packages (from textract) (0.17.1)\n",
      "Requirement already satisfied: SpeechRecognition==3.8.1 in c:\\users\\rivaj kharel\\appdata\\local\\programs\\python\\python38-32\\lib\\site-packages (from textract) (3.8.1)\n",
      "Requirement already satisfied: six==1.12.0 in c:\\users\\rivaj kharel\\appdata\\local\\programs\\python\\python38-32\\lib\\site-packages (from textract) (1.12.0)\n",
      "Requirement already satisfied: chardet==3.0.4 in c:\\users\\rivaj kharel\\appdata\\local\\programs\\python\\python38-32\\lib\\site-packages (from textract) (3.0.4)\n",
      "Requirement already satisfied: argcomplete==1.10.0 in c:\\users\\rivaj kharel\\appdata\\local\\programs\\python\\python38-32\\lib\\site-packages (from textract) (1.10.0)\n",
      "Requirement already satisfied: extract-msg==0.23.1 in c:\\users\\rivaj kharel\\appdata\\local\\programs\\python\\python38-32\\lib\\site-packages (from textract) (0.23.1)\n",
      "Requirement already satisfied: python-pptx==0.6.18 in c:\\users\\rivaj kharel\\appdata\\local\\programs\\python\\python38-32\\lib\\site-packages (from textract) (0.6.18)\n",
      "Requirement already satisfied: beautifulsoup4==4.8.0 in c:\\users\\rivaj kharel\\appdata\\local\\programs\\python\\python38-32\\lib\\site-packages (from textract) (4.8.0)\n",
      "Requirement already satisfied: docx2txt==0.8 in c:\\users\\rivaj kharel\\appdata\\local\\programs\\python\\python38-32\\lib\\site-packages (from textract) (0.8)\n",
      "Requirement already satisfied: xlrd==1.2.0 in c:\\users\\rivaj kharel\\appdata\\local\\programs\\python\\python38-32\\lib\\site-packages (from textract) (1.2.0)\n",
      "Requirement already satisfied: pdfminer.six==20181108 in c:\\users\\rivaj kharel\\appdata\\local\\programs\\python\\python38-32\\lib\\site-packages (from textract) (20181108)\n",
      "Requirement already satisfied: lxml in c:\\users\\rivaj kharel\\appdata\\local\\programs\\python\\python38-32\\lib\\site-packages (from EbookLib==0.17.1->textract) (4.5.0)\n",
      "Requirement already satisfied: tzlocal==1.5.1 in c:\\users\\rivaj kharel\\appdata\\local\\programs\\python\\python38-32\\lib\\site-packages (from extract-msg==0.23.1->textract) (1.5.1)\n",
      "Requirement already satisfied: olefile==0.46 in c:\\users\\rivaj kharel\\appdata\\local\\programs\\python\\python38-32\\lib\\site-packages (from extract-msg==0.23.1->textract) (0.46)\n",
      "Requirement already satisfied: imapclient==2.1.0 in c:\\users\\rivaj kharel\\appdata\\local\\programs\\python\\python38-32\\lib\\site-packages (from extract-msg==0.23.1->textract) (2.1.0)\n",
      "Requirement already satisfied: Pillow>=3.3.2 in c:\\users\\rivaj kharel\\appdata\\local\\programs\\python\\python38-32\\lib\\site-packages (from python-pptx==0.6.18->textract) (7.1.2)\n",
      "Requirement already satisfied: XlsxWriter>=0.5.7 in c:\\users\\rivaj kharel\\appdata\\local\\programs\\python\\python38-32\\lib\\site-packages (from python-pptx==0.6.18->textract) (1.2.8)\n",
      "Requirement already satisfied: soupsieve>=1.2 in c:\\users\\rivaj kharel\\appdata\\local\\programs\\python\\python38-32\\lib\\site-packages (from beautifulsoup4==4.8.0->textract) (2.0)\n",
      "Requirement already satisfied: sortedcontainers in c:\\users\\rivaj kharel\\appdata\\local\\programs\\python\\python38-32\\lib\\site-packages (from pdfminer.six==20181108->textract) (2.1.0)\n",
      "Requirement already satisfied: pycryptodome in c:\\users\\rivaj kharel\\appdata\\local\\programs\\python\\python38-32\\lib\\site-packages (from pdfminer.six==20181108->textract) (3.9.7)\n",
      "Requirement already satisfied: pytz in c:\\users\\rivaj kharel\\appdata\\local\\programs\\python\\python38-32\\lib\\site-packages (from tzlocal==1.5.1->extract-msg==0.23.1->textract) (2020.1)\n"
     ]
    }
   ],
   "source": [
    "!pip install pandas\n",
    "!pip install textract"
   ]
  },
  {
   "cell_type": "code",
   "execution_count": 2,
   "metadata": {},
   "outputs": [],
   "source": [
    "import requests\n",
    "import pdfplumber\n",
    "import pandas as pd\n",
    "import textract"
   ]
  },
  {
   "cell_type": "code",
   "execution_count": 3,
   "metadata": {},
   "outputs": [],
   "source": [
    "from collections import namedtuple"
   ]
  },
  {
   "cell_type": "code",
   "execution_count": 4,
   "metadata": {},
   "outputs": [],
   "source": [
    "Inv = namedtuple('a', 'b')"
   ]
  },
  {
   "cell_type": "code",
   "execution_count": 5,
   "metadata": {},
   "outputs": [],
   "source": [
    "def download_file(url):\n",
    "    local_filename = url.split('/')[-1]\n",
    "    \n",
    "    with requests.get(url) as r:\n",
    "        with open(local_filename, 'wb') as f:\n",
    "            f.write(r.content)\n",
    "        \n",
    "    return local_filename"
   ]
  },
  {
   "cell_type": "code",
   "execution_count": 6,
   "metadata": {},
   "outputs": [],
   "source": [
    "url = \"http://www.arbowebforest.com/android/ArboWebForestUserManual.pdf\""
   ]
  },
  {
   "cell_type": "code",
   "execution_count": 7,
   "metadata": {},
   "outputs": [],
   "source": [
    "web = download_file(url)"
   ]
  },
  {
   "cell_type": "code",
   "execution_count": 8,
   "metadata": {},
   "outputs": [],
   "source": [
    "with pdfplumber.open(web) as pdf:\n",
    "    page = pdf.pages[7]\n",
    "    text = page.extract_text()"
   ]
  },
  {
   "cell_type": "code",
   "execution_count": 9,
   "metadata": {},
   "outputs": [
    {
     "name": "stdout",
     "output_type": "stream",
     "text": [
      " \n",
      "3.0  Getting Started \n",
      " \n",
      "3.0  GETTING STARTED \n",
      " \n",
      "Getting Started section explains how to get ArboWebForest and install it on the device. The section \n",
      "presents briefly system menu. \n",
      "3.1  Installation and Logging In \n",
      " \n",
      "The  newest  installation  version  currently  available  can  be  downloaded  from \n",
      "http://www.arbowebforest.com/php/android/ArboWebForest.apk and is an .apk file, which should be \n",
      "installed on the device. For specific instruction on how to install application on specific device refer to \n",
      "device’s manual. User ID and password are delivered to user together with ArboWebForest installation \n",
      "package.  \n",
      "3.2  System Menu \n",
      " \n",
      "ArboWebForest is tabbed application, which consists of 6 tabs (Figure 1). Three tabs represent form for \n",
      "collecting plot data. One tab handles taking photos of the plot. The second last tab has user preferences, \n",
      "including login area, while the last tab displays mobile map of world without user content. Major control \n",
      "buttons of the program are located in Tally Trees tab. All the tabs have icon and, additionally, name at \n",
      "the bottom to allow distinguishing them easily. \n",
      " \n",
      " \n",
      "Figure 1. Tabs of ArboWebForest \n",
      "3.2.1  Sample Plot tab \n",
      " \n",
      "The Sample Plot tab (Figure 2) consists of 9 input fields containing basic information about the current \n",
      "plot,  such  as  plot  number,  date,  team  leader,  and  coordinates.  It  is  possible  to  add  here  general \n",
      "description of the plot and remarks. \n",
      "User’s Manual    Page 3-1 \n",
      " \n"
     ]
    }
   ],
   "source": [
    "print(text)"
   ]
  },
  {
   "cell_type": "code",
   "execution_count": 10,
   "metadata": {},
   "outputs": [
    {
     "data": {
      "text/plain": [
       "['i',\n",
       " 'me',\n",
       " 'my',\n",
       " 'myself',\n",
       " 'we',\n",
       " 'our',\n",
       " 'ours',\n",
       " 'ourselves',\n",
       " 'you',\n",
       " \"you're\",\n",
       " \"you've\",\n",
       " \"you'll\",\n",
       " \"you'd\",\n",
       " 'your',\n",
       " 'yours',\n",
       " 'yourself',\n",
       " 'yourselves',\n",
       " 'he',\n",
       " 'him',\n",
       " 'his',\n",
       " 'himself',\n",
       " 'she',\n",
       " \"she's\",\n",
       " 'her',\n",
       " 'hers',\n",
       " 'herself',\n",
       " 'it',\n",
       " \"it's\",\n",
       " 'its',\n",
       " 'itself',\n",
       " 'they',\n",
       " 'them',\n",
       " 'their',\n",
       " 'theirs',\n",
       " 'themselves',\n",
       " 'what',\n",
       " 'which',\n",
       " 'who',\n",
       " 'whom',\n",
       " 'this',\n",
       " 'that',\n",
       " \"that'll\",\n",
       " 'these',\n",
       " 'those',\n",
       " 'am',\n",
       " 'is',\n",
       " 'are',\n",
       " 'was',\n",
       " 'were',\n",
       " 'be',\n",
       " 'been',\n",
       " 'being',\n",
       " 'have',\n",
       " 'has',\n",
       " 'had',\n",
       " 'having',\n",
       " 'do',\n",
       " 'does',\n",
       " 'did',\n",
       " 'doing',\n",
       " 'a',\n",
       " 'an',\n",
       " 'the',\n",
       " 'and',\n",
       " 'but',\n",
       " 'if',\n",
       " 'or',\n",
       " 'because',\n",
       " 'as',\n",
       " 'until',\n",
       " 'while',\n",
       " 'of',\n",
       " 'at',\n",
       " 'by',\n",
       " 'for',\n",
       " 'with',\n",
       " 'about',\n",
       " 'against',\n",
       " 'between',\n",
       " 'into',\n",
       " 'through',\n",
       " 'during',\n",
       " 'before',\n",
       " 'after',\n",
       " 'above',\n",
       " 'below',\n",
       " 'to',\n",
       " 'from',\n",
       " 'up',\n",
       " 'down',\n",
       " 'in',\n",
       " 'out',\n",
       " 'on',\n",
       " 'off',\n",
       " 'over',\n",
       " 'under',\n",
       " 'again',\n",
       " 'further',\n",
       " 'then',\n",
       " 'once',\n",
       " 'here',\n",
       " 'there',\n",
       " 'when',\n",
       " 'where',\n",
       " 'why',\n",
       " 'how',\n",
       " 'all',\n",
       " 'any',\n",
       " 'both',\n",
       " 'each',\n",
       " 'few',\n",
       " 'more',\n",
       " 'most',\n",
       " 'other',\n",
       " 'some',\n",
       " 'such',\n",
       " 'no',\n",
       " 'nor',\n",
       " 'not',\n",
       " 'only',\n",
       " 'own',\n",
       " 'same',\n",
       " 'so',\n",
       " 'than',\n",
       " 'too',\n",
       " 'very',\n",
       " 's',\n",
       " 't',\n",
       " 'can',\n",
       " 'will',\n",
       " 'just',\n",
       " 'don',\n",
       " \"don't\",\n",
       " 'should',\n",
       " \"should've\",\n",
       " 'now',\n",
       " 'd',\n",
       " 'll',\n",
       " 'm',\n",
       " 'o',\n",
       " 're',\n",
       " 've',\n",
       " 'y',\n",
       " 'ain',\n",
       " 'aren',\n",
       " \"aren't\",\n",
       " 'couldn',\n",
       " \"couldn't\",\n",
       " 'didn',\n",
       " \"didn't\",\n",
       " 'doesn',\n",
       " \"doesn't\",\n",
       " 'hadn',\n",
       " \"hadn't\",\n",
       " 'hasn',\n",
       " \"hasn't\",\n",
       " 'haven',\n",
       " \"haven't\",\n",
       " 'isn',\n",
       " \"isn't\",\n",
       " 'ma',\n",
       " 'mightn',\n",
       " \"mightn't\",\n",
       " 'mustn',\n",
       " \"mustn't\",\n",
       " 'needn',\n",
       " \"needn't\",\n",
       " 'shan',\n",
       " \"shan't\",\n",
       " 'shouldn',\n",
       " \"shouldn't\",\n",
       " 'wasn',\n",
       " \"wasn't\",\n",
       " 'weren',\n",
       " \"weren't\",\n",
       " 'won',\n",
       " \"won't\",\n",
       " 'wouldn',\n",
       " \"wouldn't\"]"
      ]
     },
     "execution_count": 10,
     "metadata": {},
     "output_type": "execute_result"
    }
   ],
   "source": [
    "from nltk.corpus import stopwords\n",
    "stopwords.words('english')"
   ]
  },
  {
   "cell_type": "code",
   "execution_count": 18,
   "metadata": {},
   "outputs": [
    {
     "data": {
      "text/plain": [
       "['3.0',\n",
       " 'Getting',\n",
       " 'Started',\n",
       " '3.0',\n",
       " 'GETTING',\n",
       " 'STARTED',\n",
       " 'Getting',\n",
       " 'Started',\n",
       " 'section',\n",
       " 'explains',\n",
       " 'get',\n",
       " 'ArboWebForest',\n",
       " 'install',\n",
       " 'device',\n",
       " '.',\n",
       " 'The',\n",
       " 'section',\n",
       " 'presents',\n",
       " 'briefly',\n",
       " 'system',\n",
       " 'menu',\n",
       " '.',\n",
       " '3.1',\n",
       " 'Installation',\n",
       " 'Logging',\n",
       " 'In',\n",
       " 'The',\n",
       " 'newest',\n",
       " 'installation',\n",
       " 'version',\n",
       " 'currently',\n",
       " 'available',\n",
       " 'downloaded',\n",
       " 'http',\n",
       " ':',\n",
       " '//www.arbowebforest.com/php/android/ArboWebForest.apk',\n",
       " '.apk',\n",
       " 'file',\n",
       " ',',\n",
       " 'installed',\n",
       " 'device',\n",
       " '.',\n",
       " 'For',\n",
       " 'specific',\n",
       " 'instruction',\n",
       " 'install',\n",
       " 'application',\n",
       " 'specific',\n",
       " 'device',\n",
       " 'refer',\n",
       " 'device',\n",
       " '’',\n",
       " 'manual',\n",
       " '.',\n",
       " 'User',\n",
       " 'ID',\n",
       " 'password',\n",
       " 'delivered',\n",
       " 'user',\n",
       " 'together',\n",
       " 'ArboWebForest',\n",
       " 'installation',\n",
       " 'package',\n",
       " '.',\n",
       " '3.2',\n",
       " 'System',\n",
       " 'Menu',\n",
       " 'ArboWebForest',\n",
       " 'tabbed',\n",
       " 'application',\n",
       " ',',\n",
       " 'consists',\n",
       " '6',\n",
       " 'tabs',\n",
       " '(',\n",
       " 'Figure',\n",
       " '1',\n",
       " ')',\n",
       " '.',\n",
       " 'Three',\n",
       " 'tabs',\n",
       " 'represent',\n",
       " 'form',\n",
       " 'collecting',\n",
       " 'plot',\n",
       " 'data',\n",
       " '.',\n",
       " 'One',\n",
       " 'tab',\n",
       " 'handles',\n",
       " 'taking',\n",
       " 'photos',\n",
       " 'plot',\n",
       " '.',\n",
       " 'The',\n",
       " 'second',\n",
       " 'last',\n",
       " 'tab',\n",
       " 'user',\n",
       " 'preferences',\n",
       " ',',\n",
       " 'including',\n",
       " 'login',\n",
       " 'area',\n",
       " ',',\n",
       " 'last',\n",
       " 'tab',\n",
       " 'displays',\n",
       " 'mobile',\n",
       " 'map',\n",
       " 'world',\n",
       " 'without',\n",
       " 'user',\n",
       " 'content',\n",
       " '.',\n",
       " 'Major',\n",
       " 'control',\n",
       " 'buttons',\n",
       " 'program',\n",
       " 'located',\n",
       " 'Tally',\n",
       " 'Trees',\n",
       " 'tab',\n",
       " '.',\n",
       " 'All',\n",
       " 'tabs',\n",
       " 'icon',\n",
       " ',',\n",
       " 'additionally',\n",
       " ',',\n",
       " 'name',\n",
       " 'bottom',\n",
       " 'allow',\n",
       " 'distinguishing',\n",
       " 'easily',\n",
       " '.',\n",
       " 'Figure',\n",
       " '1',\n",
       " '.',\n",
       " 'Tabs',\n",
       " 'ArboWebForest',\n",
       " '3.2.1',\n",
       " 'Sample',\n",
       " 'Plot',\n",
       " 'tab',\n",
       " 'The',\n",
       " 'Sample',\n",
       " 'Plot',\n",
       " 'tab',\n",
       " '(',\n",
       " 'Figure',\n",
       " '2',\n",
       " ')',\n",
       " 'consists',\n",
       " '9',\n",
       " 'input',\n",
       " 'fields',\n",
       " 'containing',\n",
       " 'basic',\n",
       " 'information',\n",
       " 'current',\n",
       " 'plot',\n",
       " ',',\n",
       " 'plot',\n",
       " 'number',\n",
       " ',',\n",
       " 'date',\n",
       " ',',\n",
       " 'team',\n",
       " 'leader',\n",
       " ',',\n",
       " 'coordinates',\n",
       " '.',\n",
       " 'It',\n",
       " 'possible',\n",
       " 'add',\n",
       " 'general',\n",
       " 'description',\n",
       " 'plot',\n",
       " 'remarks',\n",
       " '.',\n",
       " 'User',\n",
       " '’',\n",
       " 'Manual',\n",
       " 'Page',\n",
       " '3-1']"
      ]
     },
     "execution_count": 18,
     "metadata": {},
     "output_type": "execute_result"
    }
   ],
   "source": [
    "from nltk.corpus import stopwords\n",
    "stopwords = set(stopwords.words('english'))\n",
    "\n",
    "from nltk.tokenize import word_tokenize\n",
    "words = word_tokenize(text)\n",
    "w = []\n",
    "for i in words:\n",
    "    if i not in stopwords:\n",
    "        w.append(i)\n",
    "w"
   ]
  },
  {
   "cell_type": "code",
   "execution_count": 12,
   "metadata": {},
   "outputs": [
    {
     "data": {
      "text/plain": [
       "\"['3.0', 'Getting', 'Started', '3.0', 'GETTING', 'STARTED', 'Getting', 'Started', 'section', 'explains', 'get', 'ArboWebForest', 'install', 'device', '.', 'The', 'section', 'presents', 'briefly', 'system', 'menu', '.', '3.1', 'Installation', 'Logging', 'In', 'The', 'newest', 'installation', 'version', 'currently', 'available', 'downloaded', 'http', ':', '//www.arbowebforest.com/php/android/ArboWebForest.apk', '.apk', 'file', ',', 'installed', 'device', '.', 'For', 'specific', 'instruction', 'install', 'application', 'specific', 'device', 'refer', 'device', '’', 'manual', '.', 'User', 'ID', 'password', 'delivered', 'user', 'together', 'ArboWebForest', 'installation', 'package', '.', '3.2', 'System', 'Menu', 'ArboWebForest', 'tabbed', 'application', ',', 'consists', '6', 'tabs', '(', 'Figure', '1', ')', '.', 'Three', 'tabs', 'represent', 'form', 'collecting', 'plot', 'data', '.', 'One', 'tab', 'handles', 'taking', 'photos', 'plot', '.', 'The', 'second', 'last', 'tab', 'user', 'preferences', ',', 'including', 'login', 'area', ',', 'last', 'tab', 'displays', 'mobile', 'map', 'world', 'without', 'user', 'content', '.', 'Major', 'control', 'buttons', 'program', 'located', 'Tally', 'Trees', 'tab', '.', 'All', 'tabs', 'icon', ',', 'additionally', ',', 'name', 'bottom', 'allow', 'distinguishing', 'easily', '.', 'Figure', '1', '.', 'Tabs', 'ArboWebForest', '3.2.1', 'Sample', 'Plot', 'tab', 'The', 'Sample', 'Plot', 'tab', '(', 'Figure', '2', ')', 'consists', '9', 'input', 'fields', 'containing', 'basic', 'information', 'current', 'plot', ',', 'plot', 'number', ',', 'date', ',', 'team', 'leader', ',', 'coordinates', '.', 'It', 'possible', 'add', 'general', 'description', 'plot', 'remarks', '.', 'User', '’', 'Manual', 'Page', '3-1']\""
      ]
     },
     "execution_count": 12,
     "metadata": {},
     "output_type": "execute_result"
    }
   ],
   "source": [
    "str(w)"
   ]
  },
  {
   "cell_type": "code",
   "execution_count": 13,
   "metadata": {},
   "outputs": [
    {
     "data": {
      "text/plain": [
       "list"
      ]
     },
     "execution_count": 13,
     "metadata": {},
     "output_type": "execute_result"
    }
   ],
   "source": [
    "type(w)"
   ]
  },
  {
   "cell_type": "code",
   "execution_count": 25,
   "metadata": {},
   "outputs": [],
   "source": [
    "w1 = (' '.join(w))"
   ]
  },
  {
   "cell_type": "code",
   "execution_count": 26,
   "metadata": {},
   "outputs": [
    {
     "name": "stdout",
     "output_type": "stream",
     "text": [
      "3.0 Getting Started 3.0 GETTING STARTED Getting Started section explains get ArboWebForest install device . The section presents briefly system menu . 3.1 Installation Logging In The newest installation version currently available downloaded http : //www.arbowebforest.com/php/android/ArboWebForest.apk .apk file , installed device . For specific instruction install application specific device refer device ’ manual . User ID password delivered user together ArboWebForest installation package . 3.2 System Menu ArboWebForest tabbed application , consists 6 tabs ( Figure 1 ) . Three tabs represent form collecting plot data . One tab handles taking photos plot . The second last tab user preferences , including login area , last tab displays mobile map world without user content . Major control buttons program located Tally Trees tab . All tabs icon , additionally , name bottom allow distinguishing easily . Figure 1 . Tabs ArboWebForest 3.2.1 Sample Plot tab The Sample Plot tab ( Figure 2 ) consists 9 input fields containing basic information current plot , plot number , date , team leader , coordinates . It possible add general description plot remarks . User ’ Manual Page 3-1\n"
     ]
    }
   ],
   "source": [
    "print(w1)"
   ]
  },
  {
   "cell_type": "code",
   "execution_count": 27,
   "metadata": {},
   "outputs": [
    {
     "data": {
      "text/plain": [
       "str"
      ]
     },
     "execution_count": 27,
     "metadata": {},
     "output_type": "execute_result"
    }
   ],
   "source": [
    "type(w1)"
   ]
  },
  {
   "cell_type": "code",
   "execution_count": 33,
   "metadata": {},
   "outputs": [
    {
     "data": {
      "text/plain": [
       "' . Getting Started . GETTING STARTED Getting Started section explains get ArboWebForest install device . The section presents briefly system menu . . Installation Logging In The newest installation version currently available downloaded http www.arbowebforest.com php android ArboWebForest.apk .apk file installed device . For specific instruction install application specific device refer device manual . User ID password delivered user together ArboWebForest installation package . . System Menu ArboWebForest tabbed application consists tabs Figure . Three tabs represent form collecting plot data . One tab handles taking photos plot . The second last tab user preferences including login area last tab displays mobile map world without user content . Major control buttons program located Tally Trees tab . All tabs icon additionally name bottom allow distinguishing easily . Figure . Tabs ArboWebForest . . Sample Plot tab The Sample Plot tab Figure consists input fields containing basic information current plot plot number date team leader coordinates . It possible add general description plot remarks . User Manual Page '"
      ]
     },
     "execution_count": 33,
     "metadata": {},
     "output_type": "execute_result"
    }
   ],
   "source": [
    "import re\n",
    "re.sub('[^A-Za-z.]+', ' ', w1)"
   ]
  },
  {
   "cell_type": "code",
   "execution_count": null,
   "metadata": {},
   "outputs": [],
   "source": []
  },
  {
   "cell_type": "code",
   "execution_count": null,
   "metadata": {},
   "outputs": [],
   "source": []
  },
  {
   "cell_type": "code",
   "execution_count": null,
   "metadata": {},
   "outputs": [],
   "source": []
  },
  {
   "cell_type": "code",
   "execution_count": null,
   "metadata": {},
   "outputs": [],
   "source": []
  },
  {
   "cell_type": "code",
   "execution_count": null,
   "metadata": {},
   "outputs": [],
   "source": []
  },
  {
   "cell_type": "code",
   "execution_count": null,
   "metadata": {},
   "outputs": [],
   "source": []
  },
  {
   "cell_type": "code",
   "execution_count": null,
   "metadata": {},
   "outputs": [],
   "source": []
  },
  {
   "cell_type": "code",
   "execution_count": null,
   "metadata": {},
   "outputs": [],
   "source": []
  },
  {
   "cell_type": "code",
   "execution_count": null,
   "metadata": {},
   "outputs": [],
   "source": []
  },
  {
   "cell_type": "code",
   "execution_count": null,
   "metadata": {},
   "outputs": [],
   "source": []
  },
  {
   "cell_type": "code",
   "execution_count": null,
   "metadata": {},
   "outputs": [],
   "source": []
  },
  {
   "cell_type": "code",
   "execution_count": null,
   "metadata": {},
   "outputs": [],
   "source": []
  },
  {
   "cell_type": "code",
   "execution_count": null,
   "metadata": {},
   "outputs": [],
   "source": []
  },
  {
   "cell_type": "code",
   "execution_count": null,
   "metadata": {},
   "outputs": [],
   "source": []
  },
  {
   "cell_type": "code",
   "execution_count": null,
   "metadata": {},
   "outputs": [],
   "source": []
  },
  {
   "cell_type": "code",
   "execution_count": null,
   "metadata": {},
   "outputs": [],
   "source": []
  },
  {
   "cell_type": "code",
   "execution_count": null,
   "metadata": {},
   "outputs": [],
   "source": []
  },
  {
   "cell_type": "code",
   "execution_count": null,
   "metadata": {},
   "outputs": [],
   "source": []
  },
  {
   "cell_type": "code",
   "execution_count": null,
   "metadata": {},
   "outputs": [],
   "source": []
  },
  {
   "cell_type": "code",
   "execution_count": null,
   "metadata": {},
   "outputs": [],
   "source": []
  }
 ],
 "metadata": {
  "kernelspec": {
   "display_name": "Python 3",
   "language": "python",
   "name": "python3"
  },
  "language_info": {
   "codemirror_mode": {
    "name": "ipython",
    "version": 3
   },
   "file_extension": ".py",
   "mimetype": "text/x-python",
   "name": "python",
   "nbconvert_exporter": "python",
   "pygments_lexer": "ipython3",
   "version": "3.8.2"
  }
 },
 "nbformat": 4,
 "nbformat_minor": 4
}
