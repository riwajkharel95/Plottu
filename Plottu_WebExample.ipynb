{
 "cells": [
  {
   "cell_type": "code",
   "execution_count": 1,
   "metadata": {},
   "outputs": [
    {
     "ename": "ModuleNotFoundError",
     "evalue": "No module named 'requests'",
     "output_type": "error",
     "traceback": [
      "\u001b[1;31m---------------------------------------------------------------------------\u001b[0m",
      "\u001b[1;31mModuleNotFoundError\u001b[0m                       Traceback (most recent call last)",
      "\u001b[1;32m<ipython-input-1-95039fbd75c1>\u001b[0m in \u001b[0;36m<module>\u001b[1;34m\u001b[0m\n\u001b[1;32m----> 1\u001b[1;33m \u001b[1;32mimport\u001b[0m \u001b[0mrequests\u001b[0m\u001b[1;33m\u001b[0m\u001b[1;33m\u001b[0m\u001b[0m\n\u001b[0m",
      "\u001b[1;31mModuleNotFoundError\u001b[0m: No module named 'requests'"
     ]
    }
   ],
   "source": [
    "import requests"
   ]
  },
  {
   "cell_type": "code",
   "execution_count": 2,
   "metadata": {},
   "outputs": [
    {
     "name": "stdout",
     "output_type": "stream",
     "text": [
      "Collecting requests\n",
      "  Downloading requests-2.23.0-py2.py3-none-any.whl (58 kB)\n",
      "Collecting urllib3!=1.25.0,!=1.25.1,<1.26,>=1.21.1\n",
      "  Downloading urllib3-1.25.9-py2.py3-none-any.whl (126 kB)\n",
      "Collecting chardet<4,>=3.0.2\n",
      "  Downloading chardet-3.0.4-py2.py3-none-any.whl (133 kB)\n",
      "Collecting idna<3,>=2.5\n",
      "  Downloading idna-2.9-py2.py3-none-any.whl (58 kB)\n",
      "Collecting certifi>=2017.4.17\n",
      "  Downloading certifi-2020.4.5.1-py2.py3-none-any.whl (157 kB)\n",
      "Installing collected packages: urllib3, chardet, idna, certifi, requests\n",
      "Successfully installed certifi-2020.4.5.1 chardet-3.0.4 idna-2.9 requests-2.23.0 urllib3-1.25.9\n"
     ]
    }
   ],
   "source": [
    "!pip install requests"
   ]
  },
  {
   "cell_type": "code",
   "execution_count": 3,
   "metadata": {},
   "outputs": [
    {
     "name": "stdout",
     "output_type": "stream",
     "text": [
      "Collecting pdfplumber\n",
      "  Downloading pdfplumber-0.5.20.tar.gz (36 kB)\n",
      "Requirement already satisfied: chardet in c:\\users\\rivaj kharel\\appdata\\local\\programs\\python\\python38-32\\lib\\site-packages (from pdfplumber) (3.0.4)\n",
      "Requirement already satisfied: pycryptodome in c:\\users\\rivaj kharel\\appdata\\local\\programs\\python\\python38-32\\lib\\site-packages (from pdfplumber) (3.9.7)\n",
      "Collecting unicodecsv>=0.14.1\n",
      "  Downloading unicodecsv-0.14.1.tar.gz (10 kB)\n",
      "Collecting pdfminer.six==20200104\n",
      "  Downloading pdfminer.six-20200104-py3-none-any.whl (5.6 MB)\n",
      "Collecting pillow>=7.0.0\n",
      "  Downloading Pillow-7.1.2-cp38-cp38-win32.whl (1.8 MB)\n",
      "Collecting wand\n",
      "  Downloading Wand-0.5.9-py2.py3-none-any.whl (129 kB)\n",
      "Collecting sortedcontainers\n",
      "  Downloading sortedcontainers-2.1.0-py2.py3-none-any.whl (28 kB)\n",
      "Building wheels for collected packages: pdfplumber, unicodecsv\n",
      "  Building wheel for pdfplumber (setup.py): started\n",
      "  Building wheel for pdfplumber (setup.py): finished with status 'done'\n",
      "  Created wheel for pdfplumber: filename=pdfplumber-0.5.20-py3-none-any.whl size=30935 sha256=4df4b750dddd4396736dbfc51e2a732c1718ea8301ef894f81cfb85e57a115f7\n",
      "  Stored in directory: c:\\users\\rivaj kharel\\appdata\\local\\pip\\cache\\wheels\\87\\7a\\b7\\7766369dece62a862912dcc8433f07cfe337b900eca3f2f8b5\n",
      "  Building wheel for unicodecsv (setup.py): started\n",
      "  Building wheel for unicodecsv (setup.py): finished with status 'done'\n",
      "  Created wheel for unicodecsv: filename=unicodecsv-0.14.1-py3-none-any.whl size=10771 sha256=14969ff64324e029169a8c7475cf7e958b749aae5d77be844ed23415d552242a\n",
      "  Stored in directory: c:\\users\\rivaj kharel\\appdata\\local\\pip\\cache\\wheels\\35\\dd\\44\\ccb37563a01457f5de74ccedccaee81b01a53e12addeab5e0f\n",
      "Successfully built pdfplumber unicodecsv\n",
      "Installing collected packages: unicodecsv, sortedcontainers, pdfminer.six, pillow, wand, pdfplumber\n",
      "Successfully installed pdfminer.six-20200104 pdfplumber-0.5.20 pillow-7.1.2 sortedcontainers-2.1.0 unicodecsv-0.14.1 wand-0.5.9\n"
     ]
    }
   ],
   "source": [
    "!pip install pdfplumber"
   ]
  },
  {
   "cell_type": "code",
   "execution_count": 4,
   "metadata": {},
   "outputs": [
    {
     "ename": "ModuleNotFoundError",
     "evalue": "No module named 'pandas'",
     "output_type": "error",
     "traceback": [
      "\u001b[1;31m---------------------------------------------------------------------------\u001b[0m",
      "\u001b[1;31mModuleNotFoundError\u001b[0m                       Traceback (most recent call last)",
      "\u001b[1;32m<ipython-input-4-acc2c450b297>\u001b[0m in \u001b[0;36m<module>\u001b[1;34m\u001b[0m\n\u001b[0;32m      1\u001b[0m \u001b[1;32mimport\u001b[0m \u001b[0mrequests\u001b[0m\u001b[1;33m\u001b[0m\u001b[1;33m\u001b[0m\u001b[0m\n\u001b[0;32m      2\u001b[0m \u001b[1;32mimport\u001b[0m \u001b[0mpdfplumber\u001b[0m\u001b[1;33m\u001b[0m\u001b[1;33m\u001b[0m\u001b[0m\n\u001b[1;32m----> 3\u001b[1;33m \u001b[1;32mimport\u001b[0m \u001b[0mpandas\u001b[0m \u001b[1;32mas\u001b[0m \u001b[0mpd\u001b[0m\u001b[1;33m\u001b[0m\u001b[1;33m\u001b[0m\u001b[0m\n\u001b[0m",
      "\u001b[1;31mModuleNotFoundError\u001b[0m: No module named 'pandas'"
     ]
    }
   ],
   "source": [
    "import requests\n",
    "import pdfplumber\n",
    "import pandas as pd"
   ]
  },
  {
   "cell_type": "code",
   "execution_count": 5,
   "metadata": {},
   "outputs": [
    {
     "name": "stdout",
     "output_type": "stream",
     "text": [
      "Collecting pandas\n",
      "  Downloading pandas-1.0.3-cp38-cp38-win32.whl (7.6 MB)\n",
      "Collecting numpy>=1.13.3\n",
      "  Downloading numpy-1.18.4-cp38-cp38-win32.whl (10.8 MB)\n",
      "Requirement already satisfied: python-dateutil>=2.6.1 in c:\\users\\rivaj kharel\\appdata\\local\\programs\\python\\python38-32\\lib\\site-packages (from pandas) (2.8.1)\n",
      "Collecting pytz>=2017.2\n",
      "  Downloading pytz-2020.1-py2.py3-none-any.whl (510 kB)\n",
      "Requirement already satisfied: six>=1.5 in c:\\users\\rivaj kharel\\appdata\\local\\programs\\python\\python38-32\\lib\\site-packages (from python-dateutil>=2.6.1->pandas) (1.14.0)\n",
      "Installing collected packages: numpy, pytz, pandas\n",
      "Successfully installed numpy-1.18.4 pandas-1.0.3 pytz-2020.1\n"
     ]
    }
   ],
   "source": [
    "!pip install pandas"
   ]
  },
  {
   "cell_type": "code",
   "execution_count": 6,
   "metadata": {},
   "outputs": [],
   "source": [
    "import requests\n",
    "import pdfplumber\n",
    "import pandas as pd"
   ]
  },
  {
   "cell_type": "code",
   "execution_count": 7,
   "metadata": {},
   "outputs": [],
   "source": [
    "from collections import namedtuple"
   ]
  },
  {
   "cell_type": "code",
   "execution_count": 8,
   "metadata": {},
   "outputs": [],
   "source": [
    "Inv = namedtuple('a', 'b')"
   ]
  },
  {
   "cell_type": "code",
   "execution_count": 9,
   "metadata": {},
   "outputs": [],
   "source": [
    "def download_file(url):\n",
    "    local_filename = url.split('/')[-1]\n",
    "    \n",
    "    with requests.get(url) as r:\n",
    "        with open(local_filename, 'wb') as f:\n",
    "            f.write(r.content)\n",
    "        \n",
    "    return local_filename"
   ]
  },
  {
   "cell_type": "code",
   "execution_count": 10,
   "metadata": {},
   "outputs": [],
   "source": [
    "url = \"http://www.arbowebforest.com/android/ArboWebForestUserManual.pdf\""
   ]
  },
  {
   "cell_type": "code",
   "execution_count": 11,
   "metadata": {},
   "outputs": [],
   "source": [
    "web = download_file(url)"
   ]
  },
  {
   "cell_type": "code",
   "execution_count": 13,
   "metadata": {},
   "outputs": [],
   "source": [
    "with pdfplumber.open(web) as pdf:\n",
    "    page = pdf.pages[0]\n",
    "    text = page.extract_text()"
   ]
  },
  {
   "cell_type": "code",
   "execution_count": 14,
   "metadata": {},
   "outputs": [
    {
     "name": "stdout",
     "output_type": "stream",
     "text": [
      "   \n",
      "   \n",
      "  U\n",
      "SER’S \n",
      " \n",
      " \n",
      "   \n",
      " \n",
      "M\n",
      "ANUAL \n",
      " \n",
      " \n",
      " \n",
      " \n",
      " \n",
      " \n",
      " \n",
      " \n",
      "ArboWebForest \n",
      " \n",
      " \n",
      " \n",
      "  i\n"
     ]
    }
   ],
   "source": [
    "print(text)"
   ]
  },
  {
   "cell_type": "code",
   "execution_count": null,
   "metadata": {},
   "outputs": [],
   "source": []
  },
  {
   "cell_type": "code",
   "execution_count": null,
   "metadata": {},
   "outputs": [],
   "source": []
  }
 ],
 "metadata": {
  "kernelspec": {
   "display_name": "Python 3",
   "language": "python",
   "name": "python3"
  },
  "language_info": {
   "codemirror_mode": {
    "name": "ipython",
    "version": 3
   },
   "file_extension": ".py",
   "mimetype": "text/x-python",
   "name": "python",
   "nbconvert_exporter": "python",
   "pygments_lexer": "ipython3",
   "version": "3.8.2"
  }
 },
 "nbformat": 4,
 "nbformat_minor": 4
}
