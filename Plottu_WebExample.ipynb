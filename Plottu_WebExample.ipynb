{
 "cells": [
  {
   "cell_type": "code",
   "execution_count": 1,
   "metadata": {},
   "outputs": [
    {
     "name": "stdout",
     "output_type": "stream",
     "text": [
      "Requirement already satisfied: pandas in c:\\users\\rivaj kharel\\appdata\\local\\programs\\python\\python38-32\\lib\\site-packages (1.0.3)\n",
      "Requirement already satisfied: pytz>=2017.2 in c:\\users\\rivaj kharel\\appdata\\local\\programs\\python\\python38-32\\lib\\site-packages (from pandas) (2020.1)\n",
      "Requirement already satisfied: numpy>=1.13.3 in c:\\users\\rivaj kharel\\appdata\\local\\programs\\python\\python38-32\\lib\\site-packages (from pandas) (1.18.4)\n",
      "Requirement already satisfied: python-dateutil>=2.6.1 in c:\\users\\rivaj kharel\\appdata\\local\\programs\\python\\python38-32\\lib\\site-packages (from pandas) (2.8.1)\n",
      "Requirement already satisfied: six>=1.5 in c:\\users\\rivaj kharel\\appdata\\local\\programs\\python\\python38-32\\lib\\site-packages (from python-dateutil>=2.6.1->pandas) (1.14.0)\n",
      "Collecting textract\n",
      "  Using cached textract-1.6.3-py3-none-any.whl (21 kB)\n",
      "Collecting six==1.12.0\n",
      "  Using cached six-1.12.0-py2.py3-none-any.whl (10 kB)\n",
      "Collecting EbookLib==0.17.1\n",
      "  Using cached EbookLib-0.17.1.tar.gz (111 kB)\n",
      "Collecting beautifulsoup4==4.8.0\n",
      "  Using cached beautifulsoup4-4.8.0-py3-none-any.whl (97 kB)\n",
      "Collecting python-pptx==0.6.18\n",
      "  Using cached python-pptx-0.6.18.tar.gz (8.9 MB)\n",
      "Collecting docx2txt==0.8\n",
      "  Using cached docx2txt-0.8.tar.gz (2.8 kB)\n",
      "Collecting extract-msg==0.23.1\n",
      "  Using cached extract_msg-0.23.1-py2.py3-none-any.whl (45 kB)\n",
      "Requirement already satisfied: chardet==3.0.4 in c:\\users\\rivaj kharel\\appdata\\local\\programs\\python\\python38-32\\lib\\site-packages (from textract) (3.0.4)\n",
      "Collecting argcomplete==1.10.0\n",
      "  Using cached argcomplete-1.10.0-py2.py3-none-any.whl (31 kB)\n",
      "Collecting pdfminer.six==20181108\n",
      "  Using cached pdfminer.six-20181108-py2.py3-none-any.whl (5.6 MB)\n",
      "Collecting xlrd==1.2.0\n",
      "  Using cached xlrd-1.2.0-py2.py3-none-any.whl (103 kB)\n",
      "Collecting SpeechRecognition==3.8.1\n",
      "  Using cached SpeechRecognition-3.8.1-py2.py3-none-any.whl (32.8 MB)\n",
      "Collecting lxml\n",
      "  Using cached lxml-4.5.0-cp38-cp38-win32.whl (3.3 MB)\n",
      "Requirement already satisfied: soupsieve>=1.2 in c:\\users\\rivaj kharel\\appdata\\local\\programs\\python\\python38-32\\lib\\site-packages (from beautifulsoup4==4.8.0->textract) (2.0)\n",
      "Requirement already satisfied: Pillow>=3.3.2 in c:\\users\\rivaj kharel\\appdata\\local\\programs\\python\\python38-32\\lib\\site-packages (from python-pptx==0.6.18->textract) (7.1.2)\n",
      "Collecting XlsxWriter>=0.5.7\n",
      "  Downloading XlsxWriter-1.2.8-py2.py3-none-any.whl (141 kB)\n",
      "Collecting olefile==0.46\n",
      "  Downloading olefile-0.46.zip (112 kB)\n",
      "Collecting tzlocal==1.5.1\n",
      "  Downloading tzlocal-1.5.1.tar.gz (16 kB)\n",
      "Collecting imapclient==2.1.0\n",
      "  Downloading IMAPClient-2.1.0-py2.py3-none-any.whl (73 kB)\n",
      "Requirement already satisfied: pycryptodome in c:\\users\\rivaj kharel\\appdata\\local\\programs\\python\\python38-32\\lib\\site-packages (from pdfminer.six==20181108->textract) (3.9.7)\n",
      "Requirement already satisfied: sortedcontainers in c:\\users\\rivaj kharel\\appdata\\local\\programs\\python\\python38-32\\lib\\site-packages (from pdfminer.six==20181108->textract) (2.1.0)\n",
      "Requirement already satisfied: pytz in c:\\users\\rivaj kharel\\appdata\\local\\programs\\python\\python38-32\\lib\\site-packages (from tzlocal==1.5.1->extract-msg==0.23.1->textract) (2020.1)\n",
      "Building wheels for collected packages: EbookLib, python-pptx, docx2txt, olefile, tzlocal\n",
      "  Building wheel for EbookLib (setup.py): started\n",
      "  Building wheel for EbookLib (setup.py): finished with status 'done'\n",
      "  Created wheel for EbookLib: filename=EbookLib-0.17.1-py3-none-any.whl size=38167 sha256=c27960015c25ee55b6d19426e4d6af9e1ddb091ef38a784ac8f18baf8134ca09\n",
      "  Stored in directory: c:\\users\\rivaj kharel\\appdata\\local\\pip\\cache\\wheels\\b4\\eb\\66\\00c65b5bbf31ec34329090ec9fe8c8a8d9cb7a3a3d93841386\n",
      "  Building wheel for python-pptx (setup.py): started\n",
      "  Building wheel for python-pptx (setup.py): finished with status 'done'\n",
      "  Created wheel for python-pptx: filename=python_pptx-0.6.18-py3-none-any.whl size=275709 sha256=b9edb6eb7f78f334088488384885af735f685c9121569cc18a989b9b672fc876\n",
      "  Stored in directory: c:\\users\\rivaj kharel\\appdata\\local\\pip\\cache\\wheels\\11\\2b\\97\\d82ca57932fa62d52c723024419c5ec3b7c0f7ecf0a0f06332\n",
      "  Building wheel for docx2txt (setup.py): started\n",
      "  Building wheel for docx2txt (setup.py): finished with status 'done'\n",
      "  Created wheel for docx2txt: filename=docx2txt-0.8-py3-none-any.whl size=3969 sha256=3fe4fef2e4c14bf8c75a1eb5ce34ded38f0119e2a371dcb617a1419239022023\n",
      "  Stored in directory: c:\\users\\rivaj kharel\\appdata\\local\\pip\\cache\\wheels\\55\\f0\\2c\\81637d42670985178b77df6d41b9b6c6dc18c94818447414b9\n",
      "  Building wheel for olefile (setup.py): started\n",
      "  Building wheel for olefile (setup.py): finished with status 'done'\n",
      "  Created wheel for olefile: filename=olefile-0.46-py2.py3-none-any.whl size=35422 sha256=d9294cbcd99d6ad8abe687b268a80de4eac32d9241a3aabf25d46aea2249edec\n",
      "  Stored in directory: c:\\users\\rivaj kharel\\appdata\\local\\pip\\cache\\wheels\\0b\\d8\\16\\1e2d32ad7455728b8af9efdb9d2a0c3d03cd8f2e4be0191b8c\n",
      "  Building wheel for tzlocal (setup.py): started\n",
      "  Building wheel for tzlocal (setup.py): finished with status 'done'\n",
      "  Created wheel for tzlocal: filename=tzlocal-1.5.1-py3-none-any.whl size=17547 sha256=ae4cc63e204041ec9cc465dfe1a8e704cc1e53a82f3e5c2ab0feb6f7007b2469\n",
      "  Stored in directory: c:\\users\\rivaj kharel\\appdata\\local\\pip\\cache\\wheels\\3a\\14\\ce\\9c504116f6b89e4a05ce0bc0f41983df280d7e00f463481900\n",
      "Successfully built EbookLib python-pptx docx2txt olefile tzlocal\n",
      "Installing collected packages: six, lxml, EbookLib, beautifulsoup4, XlsxWriter, python-pptx, docx2txt, olefile, tzlocal, imapclient, extract-msg, argcomplete, pdfminer.six, xlrd, SpeechRecognition, textract\n",
      "  Attempting uninstall: six\n",
      "    Found existing installation: six 1.14.0\n",
      "    Uninstalling six-1.14.0:\n",
      "      Successfully uninstalled six-1.14.0\n",
      "  Attempting uninstall: beautifulsoup4\n",
      "    Found existing installation: beautifulsoup4 4.9.0\n",
      "    Uninstalling beautifulsoup4-4.9.0:\n",
      "      Successfully uninstalled beautifulsoup4-4.9.0\n",
      "  Attempting uninstall: pdfminer.six\n",
      "    Found existing installation: pdfminer.six 20200104\n",
      "    Uninstalling pdfminer.six-20200104:\n",
      "      Successfully uninstalled pdfminer.six-20200104\n",
      "Successfully installed EbookLib-0.17.1 SpeechRecognition-3.8.1 XlsxWriter-1.2.8 argcomplete-1.10.0 beautifulsoup4-4.8.0 docx2txt-0.8 extract-msg-0.23.1 imapclient-2.1.0 lxml-4.5.0 olefile-0.46 pdfminer.six-20181108 python-pptx-0.6.18 six-1.12.0 textract-1.6.3 tzlocal-1.5.1 xlrd-1.2.0\n"
     ]
    },
    {
     "name": "stderr",
     "output_type": "stream",
     "text": [
      "ERROR: pdfplumber 0.5.20 has requirement pdfminer.six==20200104, but you'll have pdfminer-six 20181108 which is incompatible.\n"
     ]
    }
   ],
   "source": [
    "!pip install pandas\n",
    "!pip install textract"
   ]
  },
  {
   "cell_type": "code",
   "execution_count": 2,
   "metadata": {},
   "outputs": [],
   "source": [
    "import requests\n",
    "import pdfplumber\n",
    "import pandas as pd\n",
    "import textract"
   ]
  },
  {
   "cell_type": "code",
   "execution_count": 3,
   "metadata": {},
   "outputs": [],
   "source": [
    "from collections import namedtuple"
   ]
  },
  {
   "cell_type": "code",
   "execution_count": 4,
   "metadata": {},
   "outputs": [],
   "source": [
    "Inv = namedtuple('a', 'b')"
   ]
  },
  {
   "cell_type": "code",
   "execution_count": 5,
   "metadata": {},
   "outputs": [],
   "source": [
    "def download_file(url):\n",
    "    local_filename = url.split('/')[-1]\n",
    "    \n",
    "    with requests.get(url) as r:\n",
    "        with open(local_filename, 'wb') as f:\n",
    "            f.write(r.content)\n",
    "        \n",
    "    return local_filename"
   ]
  },
  {
   "cell_type": "code",
   "execution_count": 6,
   "metadata": {},
   "outputs": [],
   "source": [
    "url = \"http://www.arbowebforest.com/android/ArboWebForestUserManual.pdf\""
   ]
  },
  {
   "cell_type": "code",
   "execution_count": 7,
   "metadata": {},
   "outputs": [],
   "source": [
    "web = download_file(url)"
   ]
  },
  {
   "cell_type": "code",
   "execution_count": 8,
   "metadata": {},
   "outputs": [],
   "source": [
    "with pdfplumber.open(web) as pdf:\n",
    "    page = pdf.pages[7]\n",
    "    text = page.extract_text()"
   ]
  },
  {
   "cell_type": "code",
   "execution_count": 9,
   "metadata": {},
   "outputs": [
    {
     "name": "stdout",
     "output_type": "stream",
     "text": [
      " \n",
      "3.0  Getting Started \n",
      " \n",
      "3.0  GETTING STARTED \n",
      " \n",
      "Getting Started section explains how to get ArboWebForest and install it on the device. The section \n",
      "presents briefly system menu. \n",
      "3.1  Installation and Logging In \n",
      " \n",
      "The  newest  installation  version  currently  available  can  be  downloaded  from \n",
      "http://www.arbowebforest.com/php/android/ArboWebForest.apk and is an .apk file, which should be \n",
      "installed on the device. For specific instruction on how to install application on specific device refer to \n",
      "device’s manual. User ID and password are delivered to user together with ArboWebForest installation \n",
      "package.  \n",
      "3.2  System Menu \n",
      " \n",
      "ArboWebForest is tabbed application, which consists of 6 tabs (Figure 1). Three tabs represent form for \n",
      "collecting plot data. One tab handles taking photos of the plot. The second last tab has user preferences, \n",
      "including login area, while the last tab displays mobile map of world without user content. Major control \n",
      "buttons of the program are located in Tally Trees tab. All the tabs have icon and, additionally, name at \n",
      "the bottom to allow distinguishing them easily. \n",
      " \n",
      " \n",
      "Figure 1. Tabs of ArboWebForest \n",
      "3.2.1  Sample Plot tab \n",
      " \n",
      "The Sample Plot tab (Figure 2) consists of 9 input fields containing basic information about the current \n",
      "plot,  such  as  plot  number,  date,  team  leader,  and  coordinates.  It  is  possible  to  add  here  general \n",
      "description of the plot and remarks. \n",
      "User’s Manual    Page 3-1 \n",
      " \n"
     ]
    }
   ],
   "source": [
    "print(text)"
   ]
  },
  {
   "cell_type": "code",
   "execution_count": null,
   "metadata": {},
   "outputs": [],
   "source": []
  },
  {
   "cell_type": "code",
   "execution_count": null,
   "metadata": {},
   "outputs": [],
   "source": []
  }
 ],
 "metadata": {
  "kernelspec": {
   "display_name": "Python 3",
   "language": "python",
   "name": "python3"
  },
  "language_info": {
   "codemirror_mode": {
    "name": "ipython",
    "version": 3
   },
   "file_extension": ".py",
   "mimetype": "text/x-python",
   "name": "python",
   "nbconvert_exporter": "python",
   "pygments_lexer": "ipython3",
   "version": "3.8.2"
  }
 },
 "nbformat": 4,
 "nbformat_minor": 4
}
